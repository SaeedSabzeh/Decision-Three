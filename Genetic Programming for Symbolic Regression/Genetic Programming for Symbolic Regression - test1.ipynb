{
  "nbformat": 4,
  "nbformat_minor": 0,
  "metadata": {
    "colab": {
      "provenance": []
    },
    "kernelspec": {
      "name": "python3",
      "display_name": "Python 3"
    },
    "language_info": {
      "name": "python"
    }
  },
  "cells": [
    {
      "cell_type": "code",
      "execution_count": 19,
      "metadata": {
        "colab": {
          "base_uri": "https://localhost:8080/"
        },
        "id": "754sQhHsaaoL",
        "outputId": "9ae1bc84-0cc6-4428-e767-a1f5e6bda40d"
      },
      "outputs": [
        {
          "output_type": "stream",
          "name": "stdout",
          "text": [
            "Best approximation: x*10\n",
            "x = -10 | Target function value: -330 | Approximated value: -100\n",
            "x = -9 | Target function value: -297 | Approximated value: -90\n",
            "x = -8 | Target function value: -264 | Approximated value: -80\n",
            "x = -7 | Target function value: -231 | Approximated value: -70\n",
            "x = -6 | Target function value: -198 | Approximated value: -60\n",
            "x = -5 | Target function value: -165 | Approximated value: -50\n",
            "x = -4 | Target function value: -132 | Approximated value: -40\n",
            "x = -3 | Target function value: -99 | Approximated value: -30\n",
            "x = -2 | Target function value: -66 | Approximated value: -20\n",
            "x = -1 | Target function value: -33 | Approximated value: -10\n",
            "x = 0 | Target function value: 0 | Approximated value: 0\n",
            "x = 1 | Target function value: 33 | Approximated value: 10\n",
            "x = 2 | Target function value: 66 | Approximated value: 20\n",
            "x = 3 | Target function value: 99 | Approximated value: 30\n",
            "x = 4 | Target function value: 132 | Approximated value: 40\n",
            "x = 5 | Target function value: 165 | Approximated value: 50\n",
            "x = 6 | Target function value: 198 | Approximated value: 60\n",
            "x = 7 | Target function value: 231 | Approximated value: 70\n",
            "x = 8 | Target function value: 264 | Approximated value: 80\n",
            "x = 9 | Target function value: 297 | Approximated value: 90\n",
            "x = 10 | Target function value: 330 | Approximated value: 100\n"
          ]
        }
      ],
      "source": [
        "import random\n",
        "import math\n",
        "\n",
        "# target function\n",
        "def target_function(x):\n",
        "    return x*33\n",
        "\n",
        "operations = ['+', '-', '*', 'sin', 'cos']\n",
        "terminals = ['x'] + [str(i) for i in range(-10, 11)]\n",
        "\n",
        "\n",
        "population_size = 100\n",
        "num_generations = 100\n",
        "mutation_rate = 0.1\n",
        "\n",
        "\n",
        "def generate_random_individual():\n",
        "    individual = []\n",
        "    for _ in range(random.randint(2, 5)):\n",
        "        if random.random() < 0.5:\n",
        "            individual.append(random.choice(operations))\n",
        "        else:\n",
        "            individual.append(random.choice(terminals))\n",
        "    return individual\n",
        "\n",
        "def evaluate_individual(individual, x):\n",
        "    expression = ''.join(individual)\n",
        "    try:\n",
        "        result = eval(expression, {'x': x, 'sin': math.sin, 'cos': math.cos})\n",
        "        return result\n",
        "    except:\n",
        "        return float('inf')\n",
        "\n",
        "def mutate_individual(individual):\n",
        "    mutated_individual = individual[:]\n",
        "    index = random.randint(0, len(mutated_individual) - 1)\n",
        "    if mutated_individual[index] in operations:\n",
        "        mutated_individual[index] = random.choice(operations)\n",
        "    else:\n",
        "        mutated_individual[index] = random.choice(terminals)\n",
        "    return mutated_individual\n",
        "\n",
        "\n",
        "\n",
        "population = [generate_random_individual() for _ in range(population_size)]\n",
        "\n",
        "for generation in range(num_generations):\n",
        "    # Evaluate fitness\n",
        "    fitness_scores = []\n",
        "    for individual in population:\n",
        "        fitness = sum((evaluate_individual(individual, x) - target_function(x))**2 for x in range(-10, 11))\n",
        "        fitness_scores.append((individual, fitness))\n",
        "\n",
        "    # Select parents for crossover\n",
        "    sorted_population = sorted(fitness_scores, key=lambda x: x[1])\n",
        "    parents = [individual for individual, _ in sorted_population[:10]]\n",
        "\n",
        "\n",
        "    new_population = parents[:]\n",
        "    while len(new_population) < population_size:\n",
        "        parent1, parent2 = random.choices(parents, k=2)\n",
        "        crossover_point = random.randint(1, min(len(parent1), len(parent2)) - 1)\n",
        "        child = parent1[:crossover_point] + parent2[crossover_point:]\n",
        "        if random.random() < mutation_rate:\n",
        "            child = mutate_individual(child)\n",
        "        new_population.append(child)\n",
        "\n",
        "    population = new_population\n",
        "\n",
        "# Find the best\n",
        "best_individual, _ = min(fitness_scores, key=lambda x: x[1])\n",
        "best_expression = ''.join(best_individual)\n",
        "print(\"Best approximation:\", best_expression)\n",
        "\n",
        "# Test the best\n",
        "for x in range(-10, 11):\n",
        "    print(\"x =\", x, \"| Target function value:\", target_function(x), \"| Approximated value:\", evaluate_individual(best_individual, x))\n"
      ]
    }
  ]
}