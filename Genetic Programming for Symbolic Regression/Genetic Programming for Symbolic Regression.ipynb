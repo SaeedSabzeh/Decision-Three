{
  "nbformat": 4,
  "nbformat_minor": 0,
  "metadata": {
    "colab": {
      "provenance": []
    },
    "kernelspec": {
      "name": "python3",
      "display_name": "Python 3"
    },
    "language_info": {
      "name": "python"
    }
  },
  "cells": [
    {
      "cell_type": "code",
      "execution_count": 18,
      "metadata": {
        "colab": {
          "base_uri": "https://localhost:8080/"
        },
        "id": "754sQhHsaaoL",
        "outputId": "2bb6bd91-35a5-4c97-a698-53609a2d2823"
      },
      "outputs": [
        {
          "output_type": "stream",
          "name": "stdout",
          "text": [
            "Best approximation: -5+++x\n",
            "x = -10 | Target function value: -15 | Approximated value: -15\n",
            "x = -9 | Target function value: -14 | Approximated value: -14\n",
            "x = -8 | Target function value: -13 | Approximated value: -13\n",
            "x = -7 | Target function value: -12 | Approximated value: -12\n",
            "x = -6 | Target function value: -11 | Approximated value: -11\n",
            "x = -5 | Target function value: -10 | Approximated value: -10\n",
            "x = -4 | Target function value: -9 | Approximated value: -9\n",
            "x = -3 | Target function value: -8 | Approximated value: -8\n",
            "x = -2 | Target function value: -7 | Approximated value: -7\n",
            "x = -1 | Target function value: -6 | Approximated value: -6\n",
            "x = 0 | Target function value: -5 | Approximated value: -5\n",
            "x = 1 | Target function value: -4 | Approximated value: -4\n",
            "x = 2 | Target function value: -3 | Approximated value: -3\n",
            "x = 3 | Target function value: -2 | Approximated value: -2\n",
            "x = 4 | Target function value: -1 | Approximated value: -1\n",
            "x = 5 | Target function value: 0 | Approximated value: 0\n",
            "x = 6 | Target function value: 1 | Approximated value: 1\n",
            "x = 7 | Target function value: 2 | Approximated value: 2\n",
            "x = 8 | Target function value: 3 | Approximated value: 3\n",
            "x = 9 | Target function value: 4 | Approximated value: 4\n",
            "x = 10 | Target function value: 5 | Approximated value: 5\n"
          ]
        }
      ],
      "source": [
        "import random\n",
        "import math\n",
        "\n",
        "# target function\n",
        "def target_function(x):\n",
        "    return x-5\n",
        "\n",
        "operations = ['+', '-', '*', 'sin', 'cos']\n",
        "terminals = ['x'] + [str(i) for i in range(-10, 11)]\n",
        "\n",
        "\n",
        "population_size = 100\n",
        "num_generations = 100\n",
        "mutation_rate = 0.1\n",
        "\n",
        "\n",
        "def generate_random_individual():\n",
        "    individual = []\n",
        "    for _ in range(random.randint(2, 5)):\n",
        "        if random.random() < 0.5:\n",
        "            individual.append(random.choice(operations))\n",
        "        else:\n",
        "            individual.append(random.choice(terminals))\n",
        "    return individual\n",
        "\n",
        "def evaluate_individual(individual, x):\n",
        "    expression = ''.join(individual)\n",
        "    try:\n",
        "        result = eval(expression, {'x': x, 'sin': math.sin, 'cos': math.cos})\n",
        "        return result\n",
        "    except:\n",
        "        return float('inf')\n",
        "\n",
        "def mutate_individual(individual):\n",
        "    mutated_individual = individual[:]\n",
        "    index = random.randint(0, len(mutated_individual) - 1)\n",
        "    if mutated_individual[index] in operations:\n",
        "        mutated_individual[index] = random.choice(operations)\n",
        "    else:\n",
        "        mutated_individual[index] = random.choice(terminals)\n",
        "    return mutated_individual\n",
        "\n",
        "\n",
        "\n",
        "population = [generate_random_individual() for _ in range(population_size)]\n",
        "\n",
        "for generation in range(num_generations):\n",
        "    # Evaluate fitness\n",
        "    fitness_scores = []\n",
        "    for individual in population:\n",
        "        fitness = sum((evaluate_individual(individual, x) - target_function(x))**2 for x in range(-10, 11))\n",
        "        fitness_scores.append((individual, fitness))\n",
        "\n",
        "    # Select parents for crossover\n",
        "    sorted_population = sorted(fitness_scores, key=lambda x: x[1])\n",
        "    parents = [individual for individual, _ in sorted_population[:10]]\n",
        "\n",
        "\n",
        "    new_population = parents[:]\n",
        "    while len(new_population) < population_size:\n",
        "        parent1, parent2 = random.choices(parents, k=2)\n",
        "        crossover_point = random.randint(1, min(len(parent1), len(parent2)) - 1)\n",
        "        child = parent1[:crossover_point] + parent2[crossover_point:]\n",
        "        if random.random() < mutation_rate:\n",
        "            child = mutate_individual(child)\n",
        "        new_population.append(child)\n",
        "\n",
        "    population = new_population\n",
        "\n",
        "# Find the best\n",
        "best_individual, _ = min(fitness_scores, key=lambda x: x[1])\n",
        "best_expression = ''.join(best_individual)\n",
        "print(\"Best approximation:\", best_expression)\n",
        "\n",
        "# Test the best\n",
        "for x in range(-10, 11):\n",
        "    print(\"x =\", x, \"| Target function value:\", target_function(x), \"| Approximated value:\", evaluate_individual(best_individual, x))\n"
      ]
    }
  ]
}