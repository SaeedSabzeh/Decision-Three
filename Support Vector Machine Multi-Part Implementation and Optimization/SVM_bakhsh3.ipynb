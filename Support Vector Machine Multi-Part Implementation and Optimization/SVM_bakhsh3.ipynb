{
 "cells": [
  {
   "cell_type": "code",
   "execution_count": 10,
   "id": "a9619120-64fe-414f-949c-d3f7bdf4e60b",
   "metadata": {},
   "outputs": [],
   "source": [
    "import os\n",
    "import cv2\n",
    "import numpy as np\n",
    "from sklearn.model_selection import train_test_split\n",
    "\n",
    "folders = ['2', '3', '7', 'S', 'W']\n",
    "folder_paths = [os.path.join(r'C:\\Users\\SAEED\\Desktop\\SVM_Project\\New folder', folder) for folder in folders]\n",
    "\n",
    "for folder in folder_paths:\n",
    "    if not os.path.exists(folder):\n",
    "        print(f\"Directory '{folder}' does not exist.\")\n",
    "\n",
    "images = []\n",
    "labels = []\n",
    "\n",
    "for label, folder in enumerate(folder_paths):\n",
    "    if os.path.exists(folder):\n",
    "        for filename in os.listdir(folder):\n",
    "            img_path = os.path.join(folder, filename)\n",
    "            img = cv2.imread(img_path, cv2.IMREAD_GRAYSCALE)\n",
    "            if img is not None:\n",
    "                img_resized = cv2.resize(img, (64, 64))\n",
    "                images.append(img_resized)\n",
    "                labels.append(label)\n",
    "    else:\n",
    "        print(f\"Skipping directory '{folder}' as it does not exist.\")\n",
    "\n",
    "if not images:\n",
    "    print(\"No images found in the specified directories.\")\n",
    "else:\n",
    "    images = np.array(images)\n",
    "    labels = np.array(labels)\n",
    "    images = images / 255.0\n",
    "    images = images.reshape(-1, 64, 64, 1)\n",
    "\n",
    "    X_train, X_test, y_train, y_test = train_test_split(images, labels, test_size=0.2, random_state=42)\n"
   ]
  },
  {
   "cell_type": "code",
   "execution_count": 11,
   "id": "2129c8c8-0f55-47ec-9b77-0701ff71fa7e",
   "metadata": {},
   "outputs": [
    {
     "name": "stdout",
     "output_type": "stream",
     "text": [
      "              precision    recall  f1-score   support\n",
      "\n",
      "           0       0.95      0.95      0.95        56\n",
      "           1       0.97      0.97      0.97        65\n",
      "           2       0.98      0.98      0.98        49\n",
      "           3       0.97      0.95      0.96        66\n",
      "           4       0.95      0.97      0.96        64\n",
      "\n",
      "    accuracy                           0.96       300\n",
      "   macro avg       0.96      0.96      0.96       300\n",
      "weighted avg       0.96      0.96      0.96       300\n",
      "\n",
      "Accuracy: 0.9633333333333334\n"
     ]
    }
   ],
   "source": [
    "from sklearn import svm\n",
    "from sklearn.metrics import classification_report, accuracy_score\n",
    "\n",
    "# بازسازی تصاویر به شکل 2 بعدی\n",
    "X_train_flat = X_train.reshape(X_train.shape[0], -1)\n",
    "X_test_flat = X_test.reshape(X_test.shape[0], -1)\n",
    "\n",
    "model = svm.SVC(kernel='linear')\n",
    "model.fit(X_train_flat, y_train)\n",
    "\n",
    "y_pred = model.predict(X_test_flat)\n",
    "\n",
    "print(classification_report(y_test, y_pred))\n",
    "print(\"Accuracy:\", accuracy_score(y_test, y_pred))\n"
   ]
  }
 ],
 "metadata": {
  "kernelspec": {
   "display_name": "Python 3 (ipykernel)",
   "language": "python",
   "name": "python3"
  },
  "language_info": {
   "codemirror_mode": {
    "name": "ipython",
    "version": 3
   },
   "file_extension": ".py",
   "mimetype": "text/x-python",
   "name": "python",
   "nbconvert_exporter": "python",
   "pygments_lexer": "ipython3",
   "version": "3.11.0"
  }
 },
 "nbformat": 4,
 "nbformat_minor": 5
}
